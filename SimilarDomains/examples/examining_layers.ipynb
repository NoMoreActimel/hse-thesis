{
 "cells": [
  {
   "cell_type": "code",
   "execution_count": null,
   "id": "8f02e562-c1de-4b63-99ad-e19da565d6d3",
   "metadata": {},
   "outputs": [],
   "source": []
  }
 ],
 "metadata": {
  "kernelspec": {
   "display_name": "Python [.conda-StyleDomain-env]",
   "language": "python",
   "name": "conda-env-.conda-StyleDomain-env-py"
  },
  "language_info": {
   "codemirror_mode": {
    "name": "ipython",
    "version": 3
   },
   "file_extension": ".py",
   "mimetype": "text/x-python",
   "name": "python",
   "nbconvert_exporter": "python",
   "pygments_lexer": "ipython3",
   "version": "3.10.13"
  }
 },
 "nbformat": 4,
 "nbformat_minor": 5
}
