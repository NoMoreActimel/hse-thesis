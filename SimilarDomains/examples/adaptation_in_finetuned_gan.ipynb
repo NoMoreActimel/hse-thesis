{
 "cells": [
  {
   "cell_type": "code",
   "execution_count": 2,
   "id": "0e4fcd5c-b598-43ca-b94d-cdeda6d4d6bd",
   "metadata": {},
   "outputs": [
    {
     "name": "stdout",
     "output_type": "stream",
     "text": [
      "/home/sasedov/StyleDomain\n"
     ]
    }
   ],
   "source": [
    "%cd .."
   ]
  },
  {
   "cell_type": "code",
   "execution_count": 4,
   "id": "83286693-0556-423b-b21d-15a7cb40d8dd",
   "metadata": {},
   "outputs": [
    {
     "name": "stdout",
     "output_type": "stream",
     "text": [
      "/home/sasedov/StyleDomain/SimilarDomains\n"
     ]
    },
    {
     "name": "stderr",
     "output_type": "stream",
     "text": [
      "/home/sasedov/.conda/envs/StyleDomain-env/lib/python3.10/site-packages/IPython/core/magics/osm.py:417: UserWarning: using dhist requires you to install the `pickleshare` library.\n",
      "  self.shell.db['dhist'] = compress_dhist(dhist)[-100:]\n"
     ]
    }
   ],
   "source": [
    "%cd SimilarDomains"
   ]
  },
  {
   "cell_type": "code",
   "execution_count": 5,
   "id": "8717b6a9-97e2-401f-8e2a-08726af92c9e",
   "metadata": {},
   "outputs": [
    {
     "ename": "FileNotFoundError",
     "evalue": "[Errno 2] No such file or directory: '/home/sasedov/StyleDomain/SimilarDomains/pretrained/checkpoints_iccv'",
     "output_type": "error",
     "traceback": [
      "\u001b[0;31m---------------------------------------------------------------------------\u001b[0m",
      "\u001b[0;31mFileNotFoundError\u001b[0m                         Traceback (most recent call last)",
      "Cell \u001b[0;32mIn[5], line 22\u001b[0m\n\u001b[1;32m     19\u001b[0m \u001b[38;5;28;01mfrom\u001b[39;00m \u001b[38;5;21;01mpathlib\u001b[39;00m \u001b[38;5;28;01mimport\u001b[39;00m Path\n\u001b[1;32m     20\u001b[0m \u001b[38;5;28;01mfrom\u001b[39;00m \u001b[38;5;21;01mcollections\u001b[39;00m \u001b[38;5;28;01mimport\u001b[39;00m defaultdict\n\u001b[0;32m---> 22\u001b[0m \u001b[38;5;28;01mfrom\u001b[39;00m \u001b[38;5;21;01mexamples\u001b[39;00m\u001b[38;5;21;01m.\u001b[39;00m\u001b[38;5;21;01mdraw_util\u001b[39;00m \u001b[38;5;28;01mimport\u001b[39;00m weights, set_seed, IdentityEditor, StyleEditor\n",
      "File \u001b[0;32m~/StyleDomain/SimilarDomains/examples/draw_util.py:130\u001b[0m\n\u001b[1;32m     98\u001b[0m w_style_pair \u001b[38;5;241m=\u001b[39m [\n\u001b[1;32m     99\u001b[0m     (\u001b[38;5;241m0\u001b[39m, \u001b[38;5;241m0\u001b[39m),\n\u001b[1;32m    100\u001b[0m     (\u001b[38;5;241m1\u001b[39m, \u001b[38;5;241m1\u001b[39m),\n\u001b[0;32m   (...)\u001b[0m\n\u001b[1;32m    124\u001b[0m     (\u001b[38;5;241m17\u001b[39m, \u001b[38;5;241m25\u001b[39m)\n\u001b[1;32m    125\u001b[0m ]\n\u001b[1;32m    128\u001b[0m p_root \u001b[38;5;241m=\u001b[39m Path(\u001b[38;5;18m__file__\u001b[39m)\u001b[38;5;241m.\u001b[39mresolve()\u001b[38;5;241m.\u001b[39mparent\u001b[38;5;241m.\u001b[39mparent \u001b[38;5;241m/\u001b[39m \u001b[38;5;124m'\u001b[39m\u001b[38;5;124mpretrained\u001b[39m\u001b[38;5;124m'\u001b[39m\n\u001b[0;32m--> 130\u001b[0m weights \u001b[38;5;241m=\u001b[39m {p\u001b[38;5;241m.\u001b[39mname\u001b[38;5;241m.\u001b[39mrsplit(\u001b[38;5;124m'\u001b[39m\u001b[38;5;124m_\u001b[39m\u001b[38;5;124m'\u001b[39m, \u001b[38;5;241m1\u001b[39m)[\u001b[38;5;241m0\u001b[39m]: p \u001b[38;5;28;01mfor\u001b[39;00m p \u001b[38;5;129;01min\u001b[39;00m (p_root \u001b[38;5;241m/\u001b[39m \u001b[38;5;124m'\u001b[39m\u001b[38;5;124mcheckpoints_iccv\u001b[39m\u001b[38;5;124m'\u001b[39m)\u001b[38;5;241m.\u001b[39miterdir()}\n\u001b[1;32m    132\u001b[0m weights\u001b[38;5;241m.\u001b[39mupdate({p\u001b[38;5;241m.\u001b[39mname\u001b[38;5;241m.\u001b[39msplit(\u001b[38;5;124m'\u001b[39m\u001b[38;5;124m-\u001b[39m\u001b[38;5;124m'\u001b[39m)[\u001b[38;5;241m1\u001b[39m]: p \u001b[38;5;28;01mfor\u001b[39;00m p \u001b[38;5;129;01min\u001b[39;00m (p_root \u001b[38;5;241m/\u001b[39m \u001b[38;5;124m'\u001b[39m\u001b[38;5;124mStyleGAN2\u001b[39m\u001b[38;5;124m'\u001b[39m)\u001b[38;5;241m.\u001b[39miterdir()})\n\u001b[1;32m    133\u001b[0m weights\u001b[38;5;241m.\u001b[39mupdate({\u001b[38;5;124m'\u001b[39m\u001b[38;5;124m_\u001b[39m\u001b[38;5;124m'\u001b[39m\u001b[38;5;241m.\u001b[39mjoin(p\u001b[38;5;241m.\u001b[39mstem\u001b[38;5;241m.\u001b[39msplit(\u001b[38;5;124m'\u001b[39m\u001b[38;5;124m_\u001b[39m\u001b[38;5;124m'\u001b[39m)[\u001b[38;5;241m1\u001b[39m:\u001b[38;5;241m3\u001b[39m]): p \u001b[38;5;28;01mfor\u001b[39;00m p \u001b[38;5;129;01min\u001b[39;00m (p_root \u001b[38;5;241m/\u001b[39m \u001b[38;5;124m'\u001b[39m\u001b[38;5;124mStyleGAN2_ADA\u001b[39m\u001b[38;5;124m'\u001b[39m)\u001b[38;5;241m.\u001b[39miterdir()})\n",
      "File \u001b[0;32m~/StyleDomain/SimilarDomains/examples/draw_util.py:130\u001b[0m, in \u001b[0;36m<dictcomp>\u001b[0;34m(.0)\u001b[0m\n\u001b[1;32m     98\u001b[0m w_style_pair \u001b[38;5;241m=\u001b[39m [\n\u001b[1;32m     99\u001b[0m     (\u001b[38;5;241m0\u001b[39m, \u001b[38;5;241m0\u001b[39m),\n\u001b[1;32m    100\u001b[0m     (\u001b[38;5;241m1\u001b[39m, \u001b[38;5;241m1\u001b[39m),\n\u001b[0;32m   (...)\u001b[0m\n\u001b[1;32m    124\u001b[0m     (\u001b[38;5;241m17\u001b[39m, \u001b[38;5;241m25\u001b[39m)\n\u001b[1;32m    125\u001b[0m ]\n\u001b[1;32m    128\u001b[0m p_root \u001b[38;5;241m=\u001b[39m Path(\u001b[38;5;18m__file__\u001b[39m)\u001b[38;5;241m.\u001b[39mresolve()\u001b[38;5;241m.\u001b[39mparent\u001b[38;5;241m.\u001b[39mparent \u001b[38;5;241m/\u001b[39m \u001b[38;5;124m'\u001b[39m\u001b[38;5;124mpretrained\u001b[39m\u001b[38;5;124m'\u001b[39m\n\u001b[0;32m--> 130\u001b[0m weights \u001b[38;5;241m=\u001b[39m {p\u001b[38;5;241m.\u001b[39mname\u001b[38;5;241m.\u001b[39mrsplit(\u001b[38;5;124m'\u001b[39m\u001b[38;5;124m_\u001b[39m\u001b[38;5;124m'\u001b[39m, \u001b[38;5;241m1\u001b[39m)[\u001b[38;5;241m0\u001b[39m]: p \u001b[38;5;28;01mfor\u001b[39;00m p \u001b[38;5;129;01min\u001b[39;00m (p_root \u001b[38;5;241m/\u001b[39m \u001b[38;5;124m'\u001b[39m\u001b[38;5;124mcheckpoints_iccv\u001b[39m\u001b[38;5;124m'\u001b[39m)\u001b[38;5;241m.\u001b[39miterdir()}\n\u001b[1;32m    132\u001b[0m weights\u001b[38;5;241m.\u001b[39mupdate({p\u001b[38;5;241m.\u001b[39mname\u001b[38;5;241m.\u001b[39msplit(\u001b[38;5;124m'\u001b[39m\u001b[38;5;124m-\u001b[39m\u001b[38;5;124m'\u001b[39m)[\u001b[38;5;241m1\u001b[39m]: p \u001b[38;5;28;01mfor\u001b[39;00m p \u001b[38;5;129;01min\u001b[39;00m (p_root \u001b[38;5;241m/\u001b[39m \u001b[38;5;124m'\u001b[39m\u001b[38;5;124mStyleGAN2\u001b[39m\u001b[38;5;124m'\u001b[39m)\u001b[38;5;241m.\u001b[39miterdir()})\n\u001b[1;32m    133\u001b[0m weights\u001b[38;5;241m.\u001b[39mupdate({\u001b[38;5;124m'\u001b[39m\u001b[38;5;124m_\u001b[39m\u001b[38;5;124m'\u001b[39m\u001b[38;5;241m.\u001b[39mjoin(p\u001b[38;5;241m.\u001b[39mstem\u001b[38;5;241m.\u001b[39msplit(\u001b[38;5;124m'\u001b[39m\u001b[38;5;124m_\u001b[39m\u001b[38;5;124m'\u001b[39m)[\u001b[38;5;241m1\u001b[39m:\u001b[38;5;241m3\u001b[39m]): p \u001b[38;5;28;01mfor\u001b[39;00m p \u001b[38;5;129;01min\u001b[39;00m (p_root \u001b[38;5;241m/\u001b[39m \u001b[38;5;124m'\u001b[39m\u001b[38;5;124mStyleGAN2_ADA\u001b[39m\u001b[38;5;124m'\u001b[39m)\u001b[38;5;241m.\u001b[39miterdir()})\n",
      "File \u001b[0;32m~/.conda/envs/StyleDomain-env/lib/python3.10/pathlib.py:1017\u001b[0m, in \u001b[0;36mPath.iterdir\u001b[0;34m(self)\u001b[0m\n\u001b[1;32m   1013\u001b[0m \u001b[38;5;28;01mdef\u001b[39;00m \u001b[38;5;21miterdir\u001b[39m(\u001b[38;5;28mself\u001b[39m):\n\u001b[1;32m   1014\u001b[0m \u001b[38;5;250m    \u001b[39m\u001b[38;5;124;03m\"\"\"Iterate over the files in this directory.  Does not yield any\u001b[39;00m\n\u001b[1;32m   1015\u001b[0m \u001b[38;5;124;03m    result for the special paths '.' and '..'.\u001b[39;00m\n\u001b[1;32m   1016\u001b[0m \u001b[38;5;124;03m    \"\"\"\u001b[39;00m\n\u001b[0;32m-> 1017\u001b[0m     \u001b[38;5;28;01mfor\u001b[39;00m name \u001b[38;5;129;01min\u001b[39;00m \u001b[38;5;28;43mself\u001b[39;49m\u001b[38;5;241;43m.\u001b[39;49m\u001b[43m_accessor\u001b[49m\u001b[38;5;241;43m.\u001b[39;49m\u001b[43mlistdir\u001b[49m\u001b[43m(\u001b[49m\u001b[38;5;28;43mself\u001b[39;49m\u001b[43m)\u001b[49m:\n\u001b[1;32m   1018\u001b[0m         \u001b[38;5;28;01mif\u001b[39;00m name \u001b[38;5;129;01min\u001b[39;00m {\u001b[38;5;124m'\u001b[39m\u001b[38;5;124m.\u001b[39m\u001b[38;5;124m'\u001b[39m, \u001b[38;5;124m'\u001b[39m\u001b[38;5;124m..\u001b[39m\u001b[38;5;124m'\u001b[39m}:\n\u001b[1;32m   1019\u001b[0m             \u001b[38;5;66;03m# Yielding a path object for these makes little sense\u001b[39;00m\n\u001b[1;32m   1020\u001b[0m             \u001b[38;5;28;01mcontinue\u001b[39;00m\n",
      "\u001b[0;31mFileNotFoundError\u001b[0m: [Errno 2] No such file or directory: '/home/sasedov/StyleDomain/SimilarDomains/pretrained/checkpoints_iccv'"
     ]
    }
   ],
   "source": [
    "import os\n",
    "import numpy as np\n",
    "import torch\n",
    "import torch.nn as nn\n",
    "import matplotlib.pyplot as plt\n",
    "import PIL\n",
    "import random\n",
    "\n",
    "from torchvision.transforms import Resize\n",
    "from omegaconf import OmegaConf\n",
    "from core.utils.common import load_clip, mixing_noise\n",
    "from core.utils.example_utils import (\n",
    "    Inferencer, to_im, vstack_with_lines, hstack_with_lines, insert_image\n",
    ")\n",
    "from core.utils.image_utils import construct_paper_image_grid\n",
    "from core.utils.reading_weights import read_weights\n",
    "from core.uda_models import OffsetsTunningGenerator\n",
    "\n",
    "from pathlib import Path\n",
    "from collections import defaultdict\n",
    "\n",
    "from examples.draw_util import weights, set_seed, IdentityEditor, StyleEditor"
   ]
  },
  {
   "cell_type": "code",
   "execution_count": null,
   "id": "711fbd8e-aa1d-4bf0-a968-75d6da1464f0",
   "metadata": {},
   "outputs": [],
   "source": [
    "device = 'cuda:0'\n",
    "\n",
    "gan_domain = 'ffhq'\n",
    "s_domain = 'pixar'\n",
    "\n",
    "ckpt = read_weights(weights[s_domain])\n",
    "ckpt_ffhq = {'sg2_params': ckpt['sg2_params']}\n",
    "ckpt_ffhq['sg2_params']['checkpoint_path'] = weights[gan_domain]\n",
    "\n",
    "model = Inferencer(ckpt, device)"
   ]
  },
  {
   "cell_type": "code",
   "execution_count": null,
   "id": "44e2b6eb-be07-4d46-a90f-06f935898a0e",
   "metadata": {},
   "outputs": [],
   "source": [
    "set_seed(1)\n",
    "\n",
    "z = [torch.randn(16, 512).to(device)]"
   ]
  },
  {
   "cell_type": "code",
   "execution_count": null,
   "id": "c238bda8-ec3b-4df5-b9d4-b168e257833b",
   "metadata": {},
   "outputs": [],
   "source": [
    "src_im, trg_im = model(z, truncation=0.7, offset_power=0.9)\n",
    "\n",
    "to_im(Resize(256)(src_im))"
   ]
  },
  {
   "cell_type": "code",
   "execution_count": null,
   "id": "d283b723-4369-47bd-9c24-18b722ce57d9",
   "metadata": {},
   "outputs": [],
   "source": [
    "idx = 15\n",
    "\n",
    "z_single = [z[0][idx].unsqueeze(0)]\n",
    "z.clear()\n",
    "\n",
    "s_single = model.sg2_source.get_s_code(z_single, truncation=0.7)"
   ]
  },
  {
   "cell_type": "code",
   "execution_count": null,
   "id": "f72ec351-befd-44bf-bb31-868b9f8751d9",
   "metadata": {},
   "outputs": [],
   "source": [
    "src, _ = model.sg2_source(s_single, is_s_code=True)\n",
    "\n",
    "to_im(Resize(256)(src))"
   ]
  },
  {
   "cell_type": "code",
   "execution_count": null,
   "id": "a94065cb-76ea-4b75-a57d-2fe7ba5661d2",
   "metadata": {},
   "outputs": [],
   "source": [
    "column_domains = [\n",
    "    'ffhq', \n",
    "    'to_metfaces',\n",
    "    'to_mega',\n",
    "    'to_afhqdog',\n",
    "    'to_afhqcat'\n",
    "]\n",
    "\n",
    "\n",
    "row_domains = [\n",
    "    'original', \n",
    "    'pixar', \n",
    "    'anime', \n",
    "    'ukiyo-e', \n",
    "    'botero', \n",
    "    'joker', \n",
    "    'anastasia', \n",
    "    'speed_paint', \n",
    "]\n",
    "\n",
    "\n",
    "linear_size = 256\n",
    "truncation = 0.7\n",
    "offset_pow = 0.85\n",
    "\n",
    "dom_to_pow = defaultdict(lambda : offset_pow, {\n",
    "    'original': 0.,\n",
    "    'sketch': 0.7,\n",
    "    'pixar': 0.75,\n",
    "    'botero': 0.75,\n",
    "    'joker': 0.65,\n",
    "    'edvard_munch_painting': 0.95,\n",
    "    'modigliani_painting': 0.75\n",
    "})\n",
    "\n",
    "style_to_editor = {\n",
    "    d: StyleEditor(read_weights(weights[d])) if d != 'original' else IdentityEditor() for d in row_domains\n",
    "}\n",
    "\n",
    "model = Inferencer(ckpt_ffhq, device)\n",
    "resize = Resize(linear_size)\n",
    "stack = []\n",
    "\n",
    "for row_domain in row_domains:\n",
    "    row_image = []\n",
    "    for column_domain in column_domains:\n",
    "        model.sg2_source.generator.load_state_dict(torch.load(weights[column_domain])['g_ema'])\n",
    "        s_edited = style_to_editor[row_domain](s_single, power=dom_to_pow[row_domain])\n",
    "        src_im, _ = model.sg2_source(\n",
    "            s_edited, is_s_code=True\n",
    "        )\n",
    "        im = np.array(to_im(resize(src_im)))\n",
    "        row_image.append(im)\n",
    "        \n",
    "    stack.append(row_image)"
   ]
  },
  {
   "cell_type": "code",
   "execution_count": null,
   "id": "f5fa0cde-a7b1-4dbf-ba24-b2bd4606d3b6",
   "metadata": {},
   "outputs": [],
   "source": [
    "skip_width = 10\n",
    "skip_vertical = 15\n",
    "\n",
    "final_image = []\n",
    "\n",
    "for row_stack in stack:\n",
    "    final_image.append(hstack_with_lines(row_stack, skip_width))\n",
    "    \n",
    "final_image = vstack_with_lines(final_image, skip_vertical)\n",
    "PIL.Image.fromarray(final_image)"
   ]
  },
  {
   "cell_type": "code",
   "execution_count": null,
   "id": "6041509e-5890-466f-b123-897c66779815",
   "metadata": {},
   "outputs": [],
   "source": []
  },
  {
   "cell_type": "code",
   "execution_count": null,
   "id": "6247c5c8-62a5-4ce1-af24-52a4f0514e43",
   "metadata": {},
   "outputs": [],
   "source": []
  }
 ],
 "metadata": {
  "kernelspec": {
   "display_name": "Python [.conda-StyleDomain-env]",
   "language": "python",
   "name": "conda-env-.conda-StyleDomain-env-py"
  },
  "language_info": {
   "codemirror_mode": {
    "name": "ipython",
    "version": 3
   },
   "file_extension": ".py",
   "mimetype": "text/x-python",
   "name": "python",
   "nbconvert_exporter": "python",
   "pygments_lexer": "ipython3",
   "version": "3.10.13"
  }
 },
 "nbformat": 4,
 "nbformat_minor": 5
}
