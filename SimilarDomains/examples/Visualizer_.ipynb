{
 "cells": [
  {
   "cell_type": "markdown",
   "metadata": {
    "tags": []
   },
   "source": [
    "## Init Modules"
   ]
  },
  {
   "cell_type": "code",
   "execution_count": null,
   "metadata": {},
   "outputs": [
    {
     "name": "stderr",
     "output_type": "stream",
     "text": [
      "/home/sasedov/.conda/envs/StyleDomain-env/lib/python3.10/site-packages/tqdm/auto.py:21: TqdmWarning: IProgress not found. Please update jupyter and ipywidgets. See https://ipywidgets.readthedocs.io/en/stable/user_install.html\n",
      "  from .autonotebook import tqdm as notebook_tqdm\n"
     ]
    },
    {
     "ename": "OSError",
     "evalue": "cannot open resource",
     "output_type": "error",
     "traceback": [
      "\u001b[0;31m---------------------------------------------------------------------------\u001b[0m",
      "\u001b[0;31mOSError\u001b[0m                                   Traceback (most recent call last)",
      "Cell \u001b[0;32mIn[1], line 24\u001b[0m\n\u001b[1;32m     21\u001b[0m \u001b[38;5;28;01mdef\u001b[39;00m \u001b[38;5;21mimage_crop\u001b[39m(img, row, col, H\u001b[38;5;241m=\u001b[39m\u001b[38;5;241m1024\u001b[39m, W\u001b[38;5;241m=\u001b[39m\u001b[38;5;241m1024\u001b[39m):\n\u001b[1;32m     22\u001b[0m     \u001b[38;5;28;01mreturn\u001b[39;00m img\u001b[38;5;241m.\u001b[39mcrop((H \u001b[38;5;241m*\u001b[39m col, W \u001b[38;5;241m*\u001b[39m row, H \u001b[38;5;241m*\u001b[39m (col \u001b[38;5;241m+\u001b[39m \u001b[38;5;241m1\u001b[39m), W \u001b[38;5;241m*\u001b[39m (row \u001b[38;5;241m+\u001b[39m \u001b[38;5;241m1\u001b[39m)))\n\u001b[0;32m---> 24\u001b[0m \u001b[38;5;28;01mdef\u001b[39;00m \u001b[38;5;21mcolumn_named\u001b[39m(grid, names, font\u001b[38;5;241m=\u001b[39m\u001b[43mImageFont\u001b[49m\u001b[38;5;241;43m.\u001b[39;49m\u001b[43mtruetype\u001b[49m\u001b[43m(\u001b[49m\u001b[38;5;124;43m\"\u001b[39;49m\u001b[38;5;124;43m/home/mdnikolaev/ImageEditing/tmp_img/times.ttf\u001b[39;49m\u001b[38;5;124;43m\"\u001b[39;49m\u001b[43m,\u001b[49m\u001b[43m \u001b[49m\u001b[38;5;241;43m120\u001b[39;49m\u001b[43m)\u001b[49m, H\u001b[38;5;241m=\u001b[39m\u001b[38;5;241m1024\u001b[39m, W\u001b[38;5;241m=\u001b[39m\u001b[38;5;241m1024\u001b[39m, alpha\u001b[38;5;241m=\u001b[39m\u001b[38;5;241m1\u001b[39m):\n\u001b[1;32m     25\u001b[0m     draw \u001b[38;5;241m=\u001b[39m ImageDraw\u001b[38;5;241m.\u001b[39mDraw(grid)\n\u001b[1;32m     26\u001b[0m     W_, H_ \u001b[38;5;241m=\u001b[39m grid\u001b[38;5;241m.\u001b[39msize\n",
      "File \u001b[0;32m~/.conda/envs/StyleDomain-env/lib/python3.10/site-packages/PIL/ImageFont.py:1008\u001b[0m, in \u001b[0;36mtruetype\u001b[0;34m(font, size, index, encoding, layout_engine)\u001b[0m\n\u001b[1;32m   1005\u001b[0m     \u001b[38;5;28;01mreturn\u001b[39;00m FreeTypeFont(font, size, index, encoding, layout_engine)\n\u001b[1;32m   1007\u001b[0m \u001b[38;5;28;01mtry\u001b[39;00m:\n\u001b[0;32m-> 1008\u001b[0m     \u001b[38;5;28;01mreturn\u001b[39;00m \u001b[43mfreetype\u001b[49m\u001b[43m(\u001b[49m\u001b[43mfont\u001b[49m\u001b[43m)\u001b[49m\n\u001b[1;32m   1009\u001b[0m \u001b[38;5;28;01mexcept\u001b[39;00m \u001b[38;5;167;01mOSError\u001b[39;00m:\n\u001b[1;32m   1010\u001b[0m     \u001b[38;5;28;01mif\u001b[39;00m \u001b[38;5;129;01mnot\u001b[39;00m is_path(font):\n",
      "File \u001b[0;32m~/.conda/envs/StyleDomain-env/lib/python3.10/site-packages/PIL/ImageFont.py:1005\u001b[0m, in \u001b[0;36mtruetype.<locals>.freetype\u001b[0;34m(font)\u001b[0m\n\u001b[1;32m   1004\u001b[0m \u001b[38;5;28;01mdef\u001b[39;00m \u001b[38;5;21mfreetype\u001b[39m(font):\n\u001b[0;32m-> 1005\u001b[0m     \u001b[38;5;28;01mreturn\u001b[39;00m \u001b[43mFreeTypeFont\u001b[49m\u001b[43m(\u001b[49m\u001b[43mfont\u001b[49m\u001b[43m,\u001b[49m\u001b[43m \u001b[49m\u001b[43msize\u001b[49m\u001b[43m,\u001b[49m\u001b[43m \u001b[49m\u001b[43mindex\u001b[49m\u001b[43m,\u001b[49m\u001b[43m \u001b[49m\u001b[43mencoding\u001b[49m\u001b[43m,\u001b[49m\u001b[43m \u001b[49m\u001b[43mlayout_engine\u001b[49m\u001b[43m)\u001b[49m\n",
      "File \u001b[0;32m~/.conda/envs/StyleDomain-env/lib/python3.10/site-packages/PIL/ImageFont.py:255\u001b[0m, in \u001b[0;36mFreeTypeFont.__init__\u001b[0;34m(self, font, size, index, encoding, layout_engine)\u001b[0m\n\u001b[1;32m    253\u001b[0m                 load_from_bytes(f)\n\u001b[1;32m    254\u001b[0m             \u001b[38;5;28;01mreturn\u001b[39;00m\n\u001b[0;32m--> 255\u001b[0m     \u001b[38;5;28mself\u001b[39m\u001b[38;5;241m.\u001b[39mfont \u001b[38;5;241m=\u001b[39m \u001b[43mcore\u001b[49m\u001b[38;5;241;43m.\u001b[39;49m\u001b[43mgetfont\u001b[49m\u001b[43m(\u001b[49m\n\u001b[1;32m    256\u001b[0m \u001b[43m        \u001b[49m\u001b[43mfont\u001b[49m\u001b[43m,\u001b[49m\u001b[43m \u001b[49m\u001b[43msize\u001b[49m\u001b[43m,\u001b[49m\u001b[43m \u001b[49m\u001b[43mindex\u001b[49m\u001b[43m,\u001b[49m\u001b[43m \u001b[49m\u001b[43mencoding\u001b[49m\u001b[43m,\u001b[49m\u001b[43m \u001b[49m\u001b[43mlayout_engine\u001b[49m\u001b[38;5;241;43m=\u001b[39;49m\u001b[43mlayout_engine\u001b[49m\n\u001b[1;32m    257\u001b[0m \u001b[43m    \u001b[49m\u001b[43m)\u001b[49m\n\u001b[1;32m    258\u001b[0m \u001b[38;5;28;01melse\u001b[39;00m:\n\u001b[1;32m    259\u001b[0m     load_from_bytes(font)\n",
      "\u001b[0;31mOSError\u001b[0m: cannot open resource"
     ]
    }
   ],
   "source": [
    "%load_ext autoreload\n",
    "%autoreload 2\n",
    "\n",
    "from PIL import Image, ImageDraw, ImageFont\n",
    "from joblib import Parallel, delayed\n",
    "from tqdm.auto import tqdm\n",
    "import numpy as np\n",
    "import os\n",
    "\n",
    "def image_grid(imgs, rows, cols):\n",
    "    assert len(imgs) == rows*cols\n",
    "\n",
    "    w, h = imgs[0].size\n",
    "    grid = Image.new('RGB', size=(cols*w, rows*h))\n",
    "    grid_w, grid_h = grid.size\n",
    "    \n",
    "    for i, img in enumerate(imgs):\n",
    "        grid.paste(img, box=(i%cols*w, i//cols*h))\n",
    "    return grid\n",
    "\n",
    "def image_crop(img, row, col, H=1024, W=1024):\n",
    "    return img.crop((H * col, W * row, H * (col + 1), W * (row + 1)))\n",
    "\n",
    "def column_named(grid, names, font=ImageFont.truetype(\"/home/mdnikolaev/ImageEditing/tmp_img/times.ttf\", 120), H=1024, W=1024, alpha=1):\n",
    "    draw = ImageDraw.Draw(grid)\n",
    "    W_, H_ = grid.size\n",
    "    ws, hw = zip(*[draw.textbbox((0, 0), name, font=font)[-2:] for name in names])\n",
    "    new_img = Image.new('RGB', (W_, H_ + max(hw) + 100), (255, 255, 255))\n",
    "    if alpha != 1:\n",
    "        alpha = Image.new(\"L\", new_img.size, int(255 * alpha))\n",
    "        new_img.putalpha(alpha)\n",
    "    \n",
    "    draw = ImageDraw.Draw(new_img)\n",
    "    W_, H_ = new_img.size\n",
    "    new_img.paste(grid, box=(0, max(hw) + 100))\n",
    "    for i, name in enumerate(names):\n",
    "        draw.text((W * i + (W-ws[i])/2, max(hw) - min(hw) + 50), name, font=font, fill='black')\n",
    "    return new_img\n",
    "\n",
    "def column_named2(grid, names, font=ImageFont.truetype(\"/home/mdnikolaev/ImageEditing/tmp_img/times.ttf\", 120), H=1024, W=1024):\n",
    "    draw = ImageDraw.Draw(grid)\n",
    "    W_, H_ = grid.size\n",
    "    ws, hw = zip(*[draw.textbbox((0, 0), name, font=font)[-2:] for name in names])\n",
    "    new_img = Image.new('RGB', (W_, H_ + max(hw) + 100), (255, 255, 255))\n",
    "    \n",
    "    draw = ImageDraw.Draw(new_img)\n",
    "    W_, H_ = new_img.size\n",
    "    new_img.paste(grid, box=(0, max(hw) + 100))\n",
    "    for i, name in enumerate(names):\n",
    "        draw.text((W * i + (W-ws[i])/2, max(hw) - hw[i] + 50), name, font=font, fill='black')\n",
    "    return new_img\n",
    "\n",
    "def split_horiz(img, col, shift=10):\n",
    "    W, H = img.size\n",
    "    new_img = Image.new('RGB', (W + shift, H), (255, 255, 255))\n",
    "    new_img.paste(img.crop((0, 0, col * 1024, H)), box=(0, 0))\n",
    "    new_img.paste(img.crop((col * 1024, 0, W, H)), box=(col * 1024 + shift, 0))\n",
    "    return new_img\n"
   ]
  },
  {
   "cell_type": "code",
   "execution_count": null,
   "metadata": {},
   "outputs": [],
   "source": [
    "def get_transform_image_exp(exps, exp_to_path, col_names=None, named=True, head=3, shift=10):\n",
    "    exp_to_imgs = {}\n",
    "    rows_name = None\n",
    "    for exp in exps:\n",
    "        data = exp_to_path[exp]\n",
    "        exp_to_imgs[exp] = [Image.open(path).resize((1024, 1024), resample=Image.LANCZOS) for path in data.values()]\n",
    "        rows_name = rows_name or list(data.keys())\n",
    "        assert rows_name == list(data.keys())\n",
    "        \n",
    "    \n",
    "    imgs_to_grid = [exp_to_imgs[exp][i] for exp in exps for i in range(len(rows_name))]\n",
    "    grid = image_grid(imgs_to_grid, len(exps), len(rows_name))\n",
    "    _, height = grid.size\n",
    "    \n",
    "    grid_table_rot = column_named(grid, rows_name)\n",
    "    grid_name_splt = split_horiz(grid_table_rot, head, shift)\n",
    "    if named:\n",
    "        if col_names is not None:\n",
    "            grid_name_rot = column_named(grid_name_splt.rotate(-90, expand=True), col_names[::-1], W=height // len(col_names)).rotate(90, expand=True)\n",
    "        else:\n",
    "            grid_name_rot = column_named(grid_name_splt.rotate(-90, expand=True), [exp[:10] for exp in exps[::-1]]).rotate(90, expand=True)\n",
    "    else:\n",
    "        grid_name_rot = grid_name_splt\n",
    "    return grid_name_rot"
   ]
  },
  {
   "cell_type": "code",
   "execution_count": null,
   "metadata": {},
   "outputs": [],
   "source": [
    "datasets_dir = {\n",
    "    'CelebA':  ['/home/mdnikolaev/ImageEditing/CelebA-HQ-img'],\n",
    "    \n",
    "    'CtrlHair':       [\"/home/aalanov/Nikolaev_Maxim/Datasets/CtrlHair/transfer3_celeba\"],\n",
    "    'CtrlHair wo PP': [\"/home/aalanov/Nikolaev_Maxim/Datasets/CtrlHair/transfer3_celeba_wopp\"],\n",
    "    \n",
    "    'Ours new-dataset': [\"/home/aalanov/Nikolaev_Maxim/Datasets/Ours/transfer3_celeba_new-dataset\"],\n",
    "    'Ours clip':        [\"/home/aalanov/Nikolaev_Maxim/Datasets/Ours/transfer3_celeba_clip\"],\n",
    "    'Ours back-loss':   [\"/home/aalanov/Nikolaev_Maxim/Datasets/Ours/transfer3_celeba_back-loss\"],\n",
    "    \n",
    "    'Ours new-dataset wo PP': [\"/home/aalanov/Nikolaev_Maxim/Datasets/Ours/transfer3_celeba_new-dataset/Blend_realistic\"],\n",
    "    'Ours clip wo PP':        [\"/home/aalanov/Nikolaev_Maxim/Datasets/Ours/transfer3_celeba_clip/Blend_realistic\"],\n",
    "    'Ours back-loss wo PP':   [\"/home/aalanov/Nikolaev_Maxim/Datasets/Ours/transfer3_celeba_back-loss/Blend_realistic\"],\n",
    "    \n",
    "    'StyleYourHair': [\n",
    "        \"/home/aalanov/Nikolaev_Maxim/Datasets/StyleYourHair/transfer3_celeba_1\",\n",
    "        \"/home/aalanov/Nikolaev_Maxim/Datasets/StyleYourHair/transfer3_celeba_2\",\n",
    "        \"/home/aalanov/Nikolaev_Maxim/Datasets/StyleYourHair/transfer3_celeba_3\",\n",
    "    ],\n",
    "    \n",
    "    'Barbershop': [\n",
    "        \"/home/aalanov/Nikolaev_Maxim/Datasets/Barbershop/transfer3_celeba_1\",\n",
    "        \"/home/aalanov/Nikolaev_Maxim/Datasets/Barbershop/transfer3_celeba_2\",\n",
    "        \"/home/aalanov/Nikolaev_Maxim/Datasets/Barbershop/transfer3_celeba_3\"\n",
    "    ],\n",
    "    \n",
    "    'HairCLIP': [\n",
    "        \"/home/aalanov/Nikolaev_Maxim/Datasets/HairCLIP/transfer3_celeba_1\",\n",
    "        \"/home/aalanov/Nikolaev_Maxim/Datasets/HairCLIP/transfer3_celeba_2\",\n",
    "        \"/home/aalanov/Nikolaev_Maxim/Datasets/HairCLIP/transfer3_celeba_3\",\n",
    "    ],\n",
    "}"
   ]
  },
  {
   "cell_type": "markdown",
   "metadata": {
    "tags": []
   },
   "source": [
    "## Methods Compare"
   ]
  },
  {
   "cell_type": "code",
   "execution_count": null,
   "metadata": {},
   "outputs": [],
   "source": [
    "exps = []\n",
    "for path in datasets_dir['Barbershop']:\n",
    "    imgs = []\n",
    "    for img in os.listdir(path):\n",
    "        if '.png' in img and 'vis_mask' not in img:\n",
    "            imgs.append(img)\n",
    "    exps.extend(['_'.join(img.split('_')[:3]) for img in imgs])\n",
    "exps = exps[:1_000]"
   ]
  },
  {
   "cell_type": "code",
   "execution_count": null,
   "metadata": {},
   "outputs": [],
   "source": [
    "from collections import OrderedDict\n",
    "\n",
    "exp_to_path = {}\n",
    "for exp in exps:\n",
    "    face, shape, color = exp.split('_')\n",
    "    exp_to_path[exp] = OrderedDict([\n",
    "        ('Face', f'{datasets_dir[\"CelebA\"][0]}/{face}.jpg'),\n",
    "        ('Shape', f'{datasets_dir[\"CelebA\"][0]}/{shape}.jpg'),\n",
    "        ('Color', f'{datasets_dir[\"CelebA\"][0]}/{color}.jpg'),\n",
    "        ('Ours',                     f'{datasets_dir[\"Ours clip\"][0]}/{exp}_realistic_blender_rotate.png'),\n",
    "        ('Barbershop', f'{datasets_dir[\"Barbershop\"][0]}/{exp}_realistic.png'),\n",
    "        # ('Ours + PP',                f'{datasets_dir[\"Ours\"][0]}/{exp}_realistic_blender_PP.png'),\n",
    "        # ('Ours clip',                f'{datasets_dir[\"Ours CLIP\"][0]}/{exp}_realistic_blender.png'),\n",
    "        # ('Ours clip + cuda PP',      f'{datasets_dir[\"Ours CLIP\"][0]}/{exp}_realistic_blender_PP.png'),\n",
    "        # ('Rotate CLIP',           f'{datasets_dir[\"Rotate CLIP\"][0]}/{exp}_realistic_blender_rotate.png'),\n",
    "        # ('Ours + PP', f'{datasets_dir[\"Rotate CLIP\"][0]}/{exp}_realistic_blender_rotate_PP.png'),\n",
    "        # ('PP model', f'{datasets_dir[\"PPmodel\"][0]}/{exp}_realistic_blender_rotate_PP.png'),\n",
    "        ('CtrlHair', f'{datasets_dir[\"CtrlHair\"][0]}/{exp}.png'),\n",
    "        ('HairCLIP', f'{datasets_dir[\"CtrlHair\"][0]}/{exp}.png'),\n",
    "        # ('back-loss-reg', f'{datasets_dir[\"back-loss-reg\"][0]}/{exp}_realistic_blender_rotate.png'),\n",
    "        # ('back-loss', f'{datasets_dir[\"back-loss\"][0]}/{exp}_realistic_blender_rotate.png'),\n",
    "        # ('new-dataset', f'{datasets_dir[\"new-dataset\"][0]}/{exp}_realistic_blender_rotate.png'),\n",
    "        # ('baseline', f'{datasets_dir[\"baseline\"][0]}/{exp}_realistic_blender_rotate.png'),\n",
    "        # ('clip_def', f'{datasets_dir[\"clip_def\"][0]}/{exp}_realistic_blender_rotate.png'),\n",
    "        # ('lpips', f'{datasets_dir[\"lpips\"][0]}/{exp}_realistic_blender_rotate.png'),\n",
    "    ])\n",
    "    prefix = '_'.join(exp.split('_')[:2])\n",
    "    if os.path.isfile(f'{datasets_dir[\"StyleYourHair\"][0]}/{prefix}.png'):\n",
    "        exp_to_path[exp]['StyleYourHair'] = f'{datasets_dir[\"StyleYourHair\"][0]}/{prefix}.png'\n",
    "    else:\n",
    "        exp_to_path[exp]['StyleYourHair'] = f'{datasets_dir[\"StyleYourHair\"][0]}/{prefix}_flip.png'"
   ]
  },
  {
   "cell_type": "markdown",
   "metadata": {},
   "source": [
    "### Random compare"
   ]
  },
  {
   "cell_type": "code",
   "execution_count": null,
   "metadata": {},
   "outputs": [],
   "source": [
    "path_to_save = '/home/aalanov/Nikolaev_Maxim/exps/pp-compare-1210/'\n",
    "os.makedirs(path_to_save, exist_ok=True)"
   ]
  },
  {
   "cell_type": "code",
   "execution_count": 1,
   "metadata": {},
   "outputs": [
    {
     "ename": "NameError",
     "evalue": "name 'exp_to_path' is not defined",
     "output_type": "error",
     "traceback": [
      "\u001b[0;31m---------------------------------------------------------------------------\u001b[0m",
      "\u001b[0;31mNameError\u001b[0m                                 Traceback (most recent call last)",
      "Cell \u001b[0;32mIn[1], line 4\u001b[0m\n\u001b[1;32m      1\u001b[0m N \u001b[38;5;241m=\u001b[39m \u001b[38;5;241m8\u001b[39m\n\u001b[1;32m      3\u001b[0m np\u001b[38;5;241m.\u001b[39mrandom\u001b[38;5;241m.\u001b[39mseed(\u001b[38;5;241m1729\u001b[39m)\n\u001b[0;32m----> 4\u001b[0m images \u001b[38;5;241m=\u001b[39m np\u001b[38;5;241m.\u001b[39mrandom\u001b[38;5;241m.\u001b[39mchoice(\u001b[38;5;28mlen\u001b[39m(\u001b[43mexp_to_path\u001b[49m), size\u001b[38;5;241m=\u001b[39m\u001b[38;5;241m50\u001b[39m\u001b[38;5;241m*\u001b[39mN, replace\u001b[38;5;241m=\u001b[39m\u001b[38;5;28;01mFalse\u001b[39;00m)\n\u001b[1;32m      5\u001b[0m \u001b[38;5;28;01mfor\u001b[39;00m n_batch \u001b[38;5;129;01min\u001b[39;00m tqdm(\u001b[38;5;28mrange\u001b[39m(\u001b[38;5;28mlen\u001b[39m(images) \u001b[38;5;241m/\u001b[39m\u001b[38;5;241m/\u001b[39m N)):\n\u001b[1;32m      6\u001b[0m     \u001b[38;5;28;01mtry\u001b[39;00m:\n",
      "\u001b[0;31mNameError\u001b[0m: name 'exp_to_path' is not defined"
     ]
    }
   ],
   "source": [
    "N = 8\n",
    "\n",
    "np.random.seed(1729)\n",
    "images = np.random.choice(len(exp_to_path), size=50*N, replace=False)\n",
    "for n_batch in tqdm(range(len(images) // N)):\n",
    "    try:\n",
    "        batch = images[N * n_batch: N * (n_batch + 1)]\n",
    "        batch_exp = [exps[i] for i in batch]\n",
    "        img = get_transform_image_exp(batch_exp, exp_to_path)\n",
    "        img.save(os.path.join(path_to_save, f'test-image-{n_batch}.webp'), quality=100)\n",
    "    except:\n",
    "        pass"
   ]
  },
  {
   "cell_type": "markdown",
   "metadata": {
    "jp-MarkdownHeadingCollapsed": true,
    "tags": []
   },
   "source": [
    "### Blending compare"
   ]
  },
  {
   "cell_type": "code",
   "execution_count": 4,
   "metadata": {},
   "outputs": [],
   "source": [
    "exp_to_path = {}\n",
    "for exp in exps:\n",
    "    face, shape, color = exp.split('_')\n",
    "    exp_to_path[exp] = {\n",
    "        'Ours': f'{datasets_dir[\"Ours\"][0]}/{exp}_realistic_blender.png',\n",
    "        'Face': f'{datasets_dir[\"CelebA\"][0]}/{face}.jpg',\n",
    "        'Shape': f'{datasets_dir[\"CelebA\"][0]}/{shape}.jpg',\n",
    "        'Color': f'{datasets_dir[\"CelebA\"][0]}/{color}.jpg',\n",
    "    }\n",
    "    for name in ['Blend. Modul.', 'Blend. Clip.', 'Blend. Clip.MSE256', 'Blend. Clip.Style.MSE32', 'Ours']:\n",
    "        if name == 'Blend. Modul.':\n",
    "            exp_to_path[exp][name] = f'{datasets_dir[name][0]}/{exp}_realistic_modulation.png'\n",
    "        else:\n",
    "            exp_to_path[exp][name] = f'{datasets_dir[name][0]}/{exp}_realistic_blender.png'"
   ]
  },
  {
   "cell_type": "code",
   "execution_count": 7,
   "metadata": {},
   "outputs": [
    {
     "data": {
      "application/vnd.jupyter.widget-view+json": {
       "model_id": "c92bacfb476d4a99a13fe59f9be5ea81",
       "version_major": 2,
       "version_minor": 0
      },
      "text/plain": [
       "  0%|          | 0/5 [00:00<?, ?it/s]"
      ]
     },
     "metadata": {},
     "output_type": "display_data"
    }
   ],
   "source": [
    "N = 8\n",
    "\n",
    "images = list(range(5 * N))\n",
    "for n_batch in tqdm(range(len(images) // N)):\n",
    "    batch = images[N * n_batch: N * (n_batch + 1)]\n",
    "    batch_exp = [exps[i] for i in batch]\n",
    "    img = get_transform_image_exp(batch_exp, rows=['Face', 'Shape', 'Color', 'Ours',\n",
    "                                        'Blend. Modul.', 'Blend. Clip.', 'Blend. Clip.MSE256', 'Blend. Clip.Style.MSE32'])\n",
    "    img.save(f'/home/mdnikolaev/ImageEditing/exps/methods-compare-0809/blending-image-{n_batch}.png')"
   ]
  },
  {
   "cell_type": "markdown",
   "metadata": {
    "tags": []
   },
   "source": [
    "### Pose compare"
   ]
  },
  {
   "cell_type": "code",
   "execution_count": 11,
   "metadata": {},
   "outputs": [],
   "source": [
    "import face_alignment\n",
    "from skimage import io\n",
    "import numpy as np\n",
    "\n",
    "\n",
    "def compute_diff(exps, dataset_dir, ext='png'):\n",
    "    kp_extractor = face_alignment.FaceAlignment(face_alignment.LandmarksType._3D, flip_input=False, device='cuda')\n",
    "    result = []\n",
    "    diffs = []\n",
    "    \n",
    "    for exp in tqdm(exps):\n",
    "        try:\n",
    "            name1, name2 = exp.split('_')[:2]\n",
    "\n",
    "            img1 = io.imread(f'{dataset_dir}/{name1}.{ext}')\n",
    "            img2 = io.imread(f'{dataset_dir}/{name2}.{ext}')\n",
    "\n",
    "            kp1 = kp_extractor.get_landmarks(img1)[0]\n",
    "            kp2 = kp_extractor.get_landmarks(img2)[0]\n",
    "            kp_diff = np.mean(np.abs(kp1 - kp2))\n",
    "\n",
    "            diffs.append(kp_diff)\n",
    "            result.append((exp, kp_diff))\n",
    "        except Exception as e:\n",
    "            print(f'Error in exp = {exp}')\n",
    "            print(e)\n",
    "    \n",
    "    return result, diffs"
   ]
  },
  {
   "cell_type": "code",
   "execution_count": 12,
   "metadata": {
    "tags": []
   },
   "outputs": [
    {
     "data": {
      "application/vnd.jupyter.widget-view+json": {
       "model_id": "554705eabf414ce3a106461ebc31510f",
       "version_major": 2,
       "version_minor": 0
      },
      "text/plain": [
       "  0%|          | 0/1000 [00:00<?, ?it/s]"
      ]
     },
     "metadata": {},
     "output_type": "display_data"
    }
   ],
   "source": [
    "result, diffs = compute_diff(exps, datasets_dir['CelebA'][0], 'jpg')"
   ]
  },
  {
   "cell_type": "code",
   "execution_count": 13,
   "metadata": {},
   "outputs": [
    {
     "data": {
      "image/png": "[encoded data removed]",
      "text/plain": [
       "<Figure size 640x480 with 1 Axes>"
      ]
     },
     "metadata": {},
     "output_type": "display_data"
    }
   ],
   "source": [
    "import matplotlib.pyplot as plt\n",
    "\n",
    "exp_to_diff = {val:key for val, key in result}\n",
    "plt.hist(diffs, bins=150)\n",
    "plt.show()"
   ]
  },
  {
   "cell_type": "code",
   "execution_count": 14,
   "metadata": {},
   "outputs": [],
   "source": [
    "K = len(result) // 3\n",
    "\n",
    "sorted_res = [exp for exp, v in sorted(result, key=lambda x: x[1])]\n",
    "easy = sorted_res[0: K]\n",
    "medium = sorted_res[K: 2*K]\n",
    "hard = sorted_res[2*K: 3*K]"
   ]
  },
  {
   "cell_type": "code",
   "execution_count": 15,
   "metadata": {},
   "outputs": [
    {
     "data": {
      "application/vnd.jupyter.widget-view+json": {
       "model_id": "dc4d14e3cc404c50864cc9482a6a7ec7",
       "version_major": 2,
       "version_minor": 0
      },
      "text/plain": [
       "  0%|          | 0/10 [00:00<?, ?it/s]"
      ]
     },
     "metadata": {},
     "output_type": "display_data"
    }
   ],
   "source": [
    "N = 8\n",
    "\n",
    "np.random.seed(1729)\n",
    "images = np.random.choice(len(easy), size=10*N, replace=False)\n",
    "for n_batch in tqdm(range(len(images) // N)):\n",
    "    try:\n",
    "        batch = images[N * n_batch: N * (n_batch + 1)]\n",
    "        batch_exp = [easy[i] for i in batch]\n",
    "        img = get_transform_image_exp(batch_exp, exp_to_path)\n",
    "        img = column_named(img, [str(round(exp_to_diff[easy[i]], 2)) for i in batch])\n",
    "        img.save(f'/home/mdnikolaev/ImageEditing/exps/methods-compare-1809/easy-image-{n_batch}.png')\n",
    "    except:\n",
    "        pass"
   ]
  },
  {
   "cell_type": "code",
   "execution_count": 16,
   "metadata": {},
   "outputs": [
    {
     "data": {
      "application/vnd.jupyter.widget-view+json": {
       "model_id": "6de36f88b6474d43ba2e3dddf883b8d0",
       "version_major": 2,
       "version_minor": 0
      },
      "text/plain": [
       "  0%|          | 0/10 [00:00<?, ?it/s]"
      ]
     },
     "metadata": {},
     "output_type": "display_data"
    }
   ],
   "source": [
    "N = 8\n",
    "\n",
    "np.random.seed(1729)\n",
    "images = np.random.choice(len(medium), size=10*N, replace=False)\n",
    "for n_batch in tqdm(range(len(images) // N)):\n",
    "    try:\n",
    "        batch = images[N * n_batch: N * (n_batch + 1)]\n",
    "        batch_exp = [medium[i] for i in batch]\n",
    "        img = get_transform_image_exp(batch_exp, exp_to_path)\n",
    "        img = column_named(img, [str(round(exp_to_diff[medium[i]], 2)) for i in batch])\n",
    "        img.save(f'/home/mdnikolaev/ImageEditing/exps/methods-compare-1809/medium-image-{n_batch}.png')\n",
    "    except:\n",
    "        pass"
   ]
  },
  {
   "cell_type": "code",
   "execution_count": 17,
   "metadata": {},
   "outputs": [
    {
     "data": {
      "application/vnd.jupyter.widget-view+json": {
       "model_id": "67f4744ec2a94889beda4cec50f6ae29",
       "version_major": 2,
       "version_minor": 0
      },
      "text/plain": [
       "  0%|          | 0/10 [00:00<?, ?it/s]"
      ]
     },
     "metadata": {},
     "output_type": "display_data"
    }
   ],
   "source": [
    "N = 8\n",
    "\n",
    "np.random.seed(1729)\n",
    "images = np.random.choice(len(hard), size=10*N, replace=False)\n",
    "for n_batch in tqdm(range(len(images) // N)):\n",
    "    try:\n",
    "        batch = images[N * n_batch: N * (n_batch + 1)]\n",
    "        batch_exp = [hard[i] for i in batch]\n",
    "        img = get_transform_image_exp(batch_exp, exp_to_path)\n",
    "        img = column_named(img, [str(round(exp_to_diff[hard[i]], 2)) for i in batch])\n",
    "        img.save(f'/home/mdnikolaev/ImageEditing/exps/methods-compare-1809/hard-image-{n_batch}.png')\n",
    "    except:\n",
    "        pass"
   ]
  }
 ],
 "metadata": {
  "accelerator": "GPU",
  "colab": {
   "collapsed_sections": [
    "1uKOu56tTawC",
    "zkefIyAnXiWO",
    "CxJFgMYgp-LZ",
    "Z8qTiuGFqB6_",
    "BqYOhrrLXkpF",
    "Zu4t4fNVbBL7"
   ],
   "provenance": [
    {
     "file_id": "https://github.com/omertov/encoder4editing/blob/main/notebooks/inference_playground.ipynb",
     "timestamp": 1668077149903
    }
   ]
  },
  "kernelspec": {
   "display_name": "Python [.conda-StyleDomain-env]",
   "language": "python",
   "name": "conda-env-.conda-StyleDomain-env-py"
  },
  "language_info": {
   "codemirror_mode": {
    "name": "ipython",
    "version": 3
   },
   "file_extension": ".py",
   "mimetype": "text/x-python",
   "name": "python",
   "nbconvert_exporter": "python",
   "pygments_lexer": "ipython3",
   "version": "3.10.13"
  },
  "widgets": {
   "application/vnd.jupyter.widget-state+json": {
    "state": {},
    "version_major": 2,
    "version_minor": 0
   }
  }
 },
 "nbformat": 4,
 "nbformat_minor": 4
}
